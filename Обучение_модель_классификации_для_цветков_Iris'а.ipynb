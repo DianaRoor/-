{
  "nbformat": 4,
  "nbformat_minor": 0,
  "metadata": {
    "colab": {
      "provenance": [],
      "authorship_tag": "ABX9TyMSmENN6gtmrAad6BTaKV+D",
      "include_colab_link": true
    },
    "kernelspec": {
      "name": "python3",
      "display_name": "Python 3"
    },
    "language_info": {
      "name": "python"
    }
  },
  "cells": [
    {
      "cell_type": "markdown",
      "metadata": {
        "id": "view-in-github",
        "colab_type": "text"
      },
      "source": [
        "<a href=\"https://colab.research.google.com/github/DianaRoor/-/blob/main/%D0%9E%D0%B1%D1%83%D1%87%D0%B5%D0%BD%D0%B8%D0%B5_%D0%BC%D0%BE%D0%B4%D0%B5%D0%BB%D1%8C_%D0%BA%D0%BB%D0%B0%D1%81%D1%81%D0%B8%D1%84%D0%B8%D0%BA%D0%B0%D1%86%D0%B8%D0%B8_%D0%B4%D0%BB%D1%8F_%D1%86%D0%B2%D0%B5%D1%82%D0%BA%D0%BE%D0%B2_Iris'%D0%B0.ipynb\" target=\"_parent\"><img src=\"https://colab.research.google.com/assets/colab-badge.svg\" alt=\"Open In Colab\"/></a>"
      ]
    },
    {
      "cell_type": "markdown",
      "source": [
        "Домашнее задание\n",
        "Обучите модель классификации для цветков Iris'а\n",
        "\n",
        "Примерная последовательность действий:\n",
        "\n",
        "Взять данные - https://drive.google.com/file/d/18ksAxTxBkp15LToEg46BHhwp3sPIoeUU/view?usp=sharing\n",
        "Загрузить в pyspark\n",
        "При помощи VectorAssembler преобразовать все колонки с признаками в одну (использовать PipeLine - опционально)\n",
        "Разбить данные на train и test\n",
        "Создать модель линейной регресии или модель дерева и обучить ее\n",
        "Воспользоваться MulticlassClassificationEvaluator для оценки качества на train и test множестве"
      ],
      "metadata": {
        "id": "dZOuwaBLn65X"
      }
    },
    {
      "cell_type": "code",
      "execution_count": 1,
      "metadata": {
        "colab": {
          "base_uri": "https://localhost:8080/"
        },
        "id": "qIhfCFURnIuZ",
        "outputId": "51e5ee7b-bb80-4cf9-8ae1-ef87d72ca7f2"
      },
      "outputs": [
        {
          "output_type": "stream",
          "name": "stdout",
          "text": [
            "Get:1 http://security.ubuntu.com/ubuntu jammy-security InRelease [129 kB]\n",
            "Get:2 https://cloud.r-project.org/bin/linux/ubuntu jammy-cran40/ InRelease [3,626 B]\n",
            "Get:3 https://developer.download.nvidia.com/compute/cuda/repos/ubuntu2204/x86_64  InRelease [1,581 B]\n",
            "Hit:4 http://archive.ubuntu.com/ubuntu jammy InRelease\n",
            "Get:5 http://archive.ubuntu.com/ubuntu jammy-updates InRelease [128 kB]\n",
            "Ign:6 https://r2u.stat.illinois.edu/ubuntu jammy InRelease\n",
            "Get:7 https://r2u.stat.illinois.edu/ubuntu jammy Release [5,713 B]\n",
            "Get:8 https://r2u.stat.illinois.edu/ubuntu jammy Release.gpg [793 B]\n",
            "Get:9 http://archive.ubuntu.com/ubuntu jammy-backports InRelease [127 kB]\n",
            "Hit:10 https://ppa.launchpadcontent.net/deadsnakes/ppa/ubuntu jammy InRelease\n",
            "Hit:11 https://ppa.launchpadcontent.net/graphics-drivers/ppa/ubuntu jammy InRelease\n",
            "Hit:12 https://ppa.launchpadcontent.net/ubuntugis/ppa/ubuntu jammy InRelease\n",
            "Get:13 https://developer.download.nvidia.com/compute/cuda/repos/ubuntu2204/x86_64  Packages [945 kB]\n",
            "Get:14 https://r2u.stat.illinois.edu/ubuntu jammy/main all Packages [8,240 kB]\n",
            "Get:15 http://archive.ubuntu.com/ubuntu jammy-updates/main amd64 Packages [2,498 kB]\n",
            "Get:16 http://archive.ubuntu.com/ubuntu jammy-updates/universe amd64 Packages [1,425 kB]\n",
            "Get:17 https://r2u.stat.illinois.edu/ubuntu jammy/main amd64 Packages [2,561 kB]\n",
            "Get:18 http://archive.ubuntu.com/ubuntu jammy-backports/universe amd64 Packages [36.9 kB]\n",
            "Get:19 http://archive.ubuntu.com/ubuntu jammy-backports/main amd64 Packages [111 kB]\n",
            "Fetched 16.2 MB in 6s (2,737 kB/s)\n",
            "Reading package lists... Done\n",
            "W: Skipping acquire of configured file 'main/source/Sources' as repository 'https://r2u.stat.illinois.edu/ubuntu jammy InRelease' does not seem to provide it (sources.list entry misspelt?)\n"
          ]
        }
      ],
      "source": [
        "!apt-get update"
      ]
    },
    {
      "cell_type": "code",
      "source": [
        "!apt-get install openjdk-8-jdk-headless -qq > /dev/null\n",
        "!wget -q http://archive.apache.org/dist/spark/spark-3.5.1/spark-3.5.1-bin-hadoop3.tgz\n",
        "!tar xf spark-3.5.1-bin-hadoop3.tgz\n",
        "!pip install -q findspark"
      ],
      "metadata": {
        "id": "5INjjW4fnRAm"
      },
      "execution_count": 2,
      "outputs": []
    },
    {
      "cell_type": "code",
      "source": [
        "!ls"
      ],
      "metadata": {
        "colab": {
          "base_uri": "https://localhost:8080/"
        },
        "id": "Ia2PtksrnVWn",
        "outputId": "57bc584c-c8c2-4d0b-d368-9e045c5dcc3d"
      },
      "execution_count": 3,
      "outputs": [
        {
          "output_type": "stream",
          "name": "stdout",
          "text": [
            "sample_data  spark-3.5.1-bin-hadoop3  spark-3.5.1-bin-hadoop3.tgz\n"
          ]
        }
      ]
    },
    {
      "cell_type": "code",
      "source": [
        "import os\n",
        "os.environ[\"JAVA_HOME\"] = \"/usr/lib/jvm/java-8-openjdk-amd64\"\n",
        "os.environ[\"SPARK_HOME\"] = \"/content/spark-3.5.1-bin-hadoop3\""
      ],
      "metadata": {
        "id": "NLpF4hHsntB7"
      },
      "execution_count": 4,
      "outputs": []
    },
    {
      "cell_type": "code",
      "source": [
        "import findspark\n",
        "findspark.init()\n",
        "from pyspark.sql import SparkSession\n",
        "spark = SparkSession.builder.master(\"local[*]\").getOrCreate()\n",
        "spark.conf.set(\"spark.sql.repl.eagerEval.enabled\", True) # Property used to format output tables better\n",
        "spark"
      ],
      "metadata": {
        "colab": {
          "base_uri": "https://localhost:8080/",
          "height": 219
        },
        "id": "Wxdp-80fnvF6",
        "outputId": "41bb5874-c45b-4028-fea4-a31f40db7ae2"
      },
      "execution_count": 5,
      "outputs": [
        {
          "output_type": "execute_result",
          "data": {
            "text/plain": [
              "<pyspark.sql.session.SparkSession at 0x7e6898162770>"
            ],
            "text/html": [
              "\n",
              "            <div>\n",
              "                <p><b>SparkSession - in-memory</b></p>\n",
              "                \n",
              "        <div>\n",
              "            <p><b>SparkContext</b></p>\n",
              "\n",
              "            <p><a href=\"http://a468de7d906d:4040\">Spark UI</a></p>\n",
              "\n",
              "            <dl>\n",
              "              <dt>Version</dt>\n",
              "                <dd><code>v3.5.1</code></dd>\n",
              "              <dt>Master</dt>\n",
              "                <dd><code>local[*]</code></dd>\n",
              "              <dt>AppName</dt>\n",
              "                <dd><code>pyspark-shell</code></dd>\n",
              "            </dl>\n",
              "        </div>\n",
              "        \n",
              "            </div>\n",
              "        "
            ]
          },
          "metadata": {},
          "execution_count": 5
        }
      ]
    },
    {
      "cell_type": "code",
      "source": [
        "df = spark.read.csv('iris.CSV', inferSchema=True, header=True)"
      ],
      "metadata": {
        "id": "6DbN88iwn0bp"
      },
      "execution_count": 6,
      "outputs": []
    },
    {
      "cell_type": "code",
      "source": [
        "from pyspark.ml.linalg import Vectors\n",
        "from pyspark.ml.feature import VectorAssembler"
      ],
      "metadata": {
        "id": "FGLvkziQoEYm"
      },
      "execution_count": 7,
      "outputs": []
    },
    {
      "cell_type": "code",
      "source": [
        "df.describe().show(5)"
      ],
      "metadata": {
        "colab": {
          "base_uri": "https://localhost:8080/"
        },
        "id": "WOLVPXrBogi-",
        "outputId": "c4593617-02cd-4103-b8c8-385485f7e64b"
      },
      "execution_count": 12,
      "outputs": [
        {
          "output_type": "stream",
          "name": "stdout",
          "text": [
            "+-------+------------------+-------------------+------------------+------------------+---------+------------------+\n",
            "|summary|      sepal_length|        sepal_width|      petal_length|       petal_width|  variety|       variety_num|\n",
            "+-------+------------------+-------------------+------------------+------------------+---------+------------------+\n",
            "|  count|               150|                150|               150|               150|      150|               150|\n",
            "|   mean| 5.843333333333335|  3.057333333333334|3.7580000000000027| 1.199333333333334|     NULL|               1.0|\n",
            "| stddev|0.8280661279778637|0.43586628493669793|1.7652982332594662|0.7622376689603467|     NULL|0.8192319205190406|\n",
            "|    min|               4.3|                2.0|               1.0|               0.1|   Setosa|                 0|\n",
            "|    max|               7.9|                4.4|               6.9|               2.5|Virginica|                 2|\n",
            "+-------+------------------+-------------------+------------------+------------------+---------+------------------+\n",
            "\n"
          ]
        }
      ]
    },
    {
      "cell_type": "code",
      "source": [
        "df.show()"
      ],
      "metadata": {
        "colab": {
          "base_uri": "https://localhost:8080/"
        },
        "id": "AmryT4N7oHJ8",
        "outputId": "2124e47a-090f-49cb-d045-aed8ddea4e26"
      },
      "execution_count": 9,
      "outputs": [
        {
          "output_type": "stream",
          "name": "stdout",
          "text": [
            "+------------+-----------+------------+-----------+-------+-----------+\n",
            "|sepal_length|sepal_width|petal_length|petal_width|variety|variety_num|\n",
            "+------------+-----------+------------+-----------+-------+-----------+\n",
            "|         5.1|        3.5|         1.4|        0.2| Setosa|          0|\n",
            "|         4.9|        3.0|         1.4|        0.2| Setosa|          0|\n",
            "|         4.7|        3.2|         1.3|        0.2| Setosa|          0|\n",
            "|         4.6|        3.1|         1.5|        0.2| Setosa|          0|\n",
            "|         5.0|        3.6|         1.4|        0.2| Setosa|          0|\n",
            "|         5.4|        3.9|         1.7|        0.4| Setosa|          0|\n",
            "|         4.6|        3.4|         1.4|        0.3| Setosa|          0|\n",
            "|         5.0|        3.4|         1.5|        0.2| Setosa|          0|\n",
            "|         4.4|        2.9|         1.4|        0.2| Setosa|          0|\n",
            "|         4.9|        3.1|         1.5|        0.1| Setosa|          0|\n",
            "|         5.4|        3.7|         1.5|        0.2| Setosa|          0|\n",
            "|         4.8|        3.4|         1.6|        0.2| Setosa|          0|\n",
            "|         4.8|        3.0|         1.4|        0.1| Setosa|          0|\n",
            "|         4.3|        3.0|         1.1|        0.1| Setosa|          0|\n",
            "|         5.8|        4.0|         1.2|        0.2| Setosa|          0|\n",
            "|         5.7|        4.4|         1.5|        0.4| Setosa|          0|\n",
            "|         5.4|        3.9|         1.3|        0.4| Setosa|          0|\n",
            "|         5.1|        3.5|         1.4|        0.3| Setosa|          0|\n",
            "|         5.7|        3.8|         1.7|        0.3| Setosa|          0|\n",
            "|         5.1|        3.8|         1.5|        0.3| Setosa|          0|\n",
            "+------------+-----------+------------+-----------+-------+-----------+\n",
            "only showing top 20 rows\n",
            "\n"
          ]
        }
      ]
    },
    {
      "cell_type": "code",
      "source": [
        "df.columns"
      ],
      "metadata": {
        "colab": {
          "base_uri": "https://localhost:8080/"
        },
        "id": "VX_jdtI9oO9x",
        "outputId": "cd47609c-821e-437c-834c-3b51cf9b0357"
      },
      "execution_count": 11,
      "outputs": [
        {
          "output_type": "execute_result",
          "data": {
            "text/plain": [
              "['sepal_length',\n",
              " 'sepal_width',\n",
              " 'petal_length',\n",
              " 'petal_width',\n",
              " 'variety',\n",
              " 'variety_num']"
            ]
          },
          "metadata": {},
          "execution_count": 11
        }
      ]
    },
    {
      "cell_type": "code",
      "source": [
        "from pyspark.ml.feature import StringIndexer, OneHotEncoder"
      ],
      "metadata": {
        "id": "genKKqR-qMJZ"
      },
      "execution_count": 17,
      "outputs": []
    },
    {
      "cell_type": "code",
      "source": [
        "from pyspark.ml import Pipeline\n",
        "\n",
        "indexer = StringIndexer(inputCol='variety', outputCol='label')\n",
        "assembler = VectorAssembler(inputCols=['sepal_length', 'sepal_width', 'petal_length', 'petal_width'], outputCol='features')\n",
        "pipeline = Pipeline(stages=[indexer, assembler])"
      ],
      "metadata": {
        "id": "Ez9AflwLo8Su"
      },
      "execution_count": 88,
      "outputs": []
    },
    {
      "cell_type": "code",
      "source": [
        "pipelineTrained = pipeline.fit(df)"
      ],
      "metadata": {
        "id": "PxRZCf17qYyQ"
      },
      "execution_count": 89,
      "outputs": []
    },
    {
      "cell_type": "code",
      "source": [
        "pipelineTrained.transform(df).show()"
      ],
      "metadata": {
        "colab": {
          "base_uri": "https://localhost:8080/"
        },
        "id": "RxXnpN53qc3k",
        "outputId": "0a667d5f-5121-452b-ebd3-6e7b68395858"
      },
      "execution_count": 90,
      "outputs": [
        {
          "output_type": "stream",
          "name": "stdout",
          "text": [
            "+------------+-----------+------------+-----------+-------+-----------+-----+-----------------+\n",
            "|sepal_length|sepal_width|petal_length|petal_width|variety|variety_num|label|         features|\n",
            "+------------+-----------+------------+-----------+-------+-----------+-----+-----------------+\n",
            "|         5.1|        3.5|         1.4|        0.2| Setosa|          0|  0.0|[5.1,3.5,1.4,0.2]|\n",
            "|         4.9|        3.0|         1.4|        0.2| Setosa|          0|  0.0|[4.9,3.0,1.4,0.2]|\n",
            "|         4.7|        3.2|         1.3|        0.2| Setosa|          0|  0.0|[4.7,3.2,1.3,0.2]|\n",
            "|         4.6|        3.1|         1.5|        0.2| Setosa|          0|  0.0|[4.6,3.1,1.5,0.2]|\n",
            "|         5.0|        3.6|         1.4|        0.2| Setosa|          0|  0.0|[5.0,3.6,1.4,0.2]|\n",
            "|         5.4|        3.9|         1.7|        0.4| Setosa|          0|  0.0|[5.4,3.9,1.7,0.4]|\n",
            "|         4.6|        3.4|         1.4|        0.3| Setosa|          0|  0.0|[4.6,3.4,1.4,0.3]|\n",
            "|         5.0|        3.4|         1.5|        0.2| Setosa|          0|  0.0|[5.0,3.4,1.5,0.2]|\n",
            "|         4.4|        2.9|         1.4|        0.2| Setosa|          0|  0.0|[4.4,2.9,1.4,0.2]|\n",
            "|         4.9|        3.1|         1.5|        0.1| Setosa|          0|  0.0|[4.9,3.1,1.5,0.1]|\n",
            "|         5.4|        3.7|         1.5|        0.2| Setosa|          0|  0.0|[5.4,3.7,1.5,0.2]|\n",
            "|         4.8|        3.4|         1.6|        0.2| Setosa|          0|  0.0|[4.8,3.4,1.6,0.2]|\n",
            "|         4.8|        3.0|         1.4|        0.1| Setosa|          0|  0.0|[4.8,3.0,1.4,0.1]|\n",
            "|         4.3|        3.0|         1.1|        0.1| Setosa|          0|  0.0|[4.3,3.0,1.1,0.1]|\n",
            "|         5.8|        4.0|         1.2|        0.2| Setosa|          0|  0.0|[5.8,4.0,1.2,0.2]|\n",
            "|         5.7|        4.4|         1.5|        0.4| Setosa|          0|  0.0|[5.7,4.4,1.5,0.4]|\n",
            "|         5.4|        3.9|         1.3|        0.4| Setosa|          0|  0.0|[5.4,3.9,1.3,0.4]|\n",
            "|         5.1|        3.5|         1.4|        0.3| Setosa|          0|  0.0|[5.1,3.5,1.4,0.3]|\n",
            "|         5.7|        3.8|         1.7|        0.3| Setosa|          0|  0.0|[5.7,3.8,1.7,0.3]|\n",
            "|         5.1|        3.8|         1.5|        0.3| Setosa|          0|  0.0|[5.1,3.8,1.5,0.3]|\n",
            "+------------+-----------+------------+-----------+-------+-----------+-----+-----------------+\n",
            "only showing top 20 rows\n",
            "\n"
          ]
        }
      ]
    },
    {
      "cell_type": "markdown",
      "source": [
        "## Разобьем данные на данные для обучения и проверки"
      ],
      "metadata": {
        "id": "ny50YgYtquMm"
      }
    },
    {
      "cell_type": "code",
      "source": [
        "from pyspark.ml.classification import DecisionTreeClassifier"
      ],
      "metadata": {
        "id": "jKlGJBd9w7Wq"
      },
      "execution_count": 98,
      "outputs": []
    },
    {
      "cell_type": "code",
      "source": [
        "train, test = transformed_df.randomSplit([0.8, 0.2], seed=12345)"
      ],
      "metadata": {
        "id": "KmysZpksqvcY"
      },
      "execution_count": 95,
      "outputs": []
    },
    {
      "cell_type": "code",
      "source": [
        "classifier = DecisionTreeClassifier(featuresCol='features', labelCol='label')\n",
        "model = classifier.fit(train)"
      ],
      "metadata": {
        "id": "WZ2Rq_2_weDL"
      },
      "execution_count": 106,
      "outputs": []
    },
    {
      "cell_type": "code",
      "source": [
        "classifier = classifier.fit(train)"
      ],
      "metadata": {
        "id": "OFgGMo3Tx2k-"
      },
      "execution_count": 108,
      "outputs": []
    },
    {
      "cell_type": "code",
      "source": [
        "train_classifier_res=classifier.transform(train)\n",
        "test_classifier_res=classifier.transform(test)"
      ],
      "metadata": {
        "id": "j-WQPe76wmeI"
      },
      "execution_count": 109,
      "outputs": []
    },
    {
      "cell_type": "code",
      "source": [
        "train_classifier_res.show()"
      ],
      "metadata": {
        "colab": {
          "base_uri": "https://localhost:8080/"
        },
        "id": "FtZpurUpxxX2",
        "outputId": "1eb24cb5-d67e-479f-a842-4d76ba197701"
      },
      "execution_count": 110,
      "outputs": [
        {
          "output_type": "stream",
          "name": "stdout",
          "text": [
            "+------------+-----------+------------+-----------+----------+-----------+-----+-----------------+--------------+-------------+----------+\n",
            "|sepal_length|sepal_width|petal_length|petal_width|   variety|variety_num|label|         features| rawPrediction|  probability|prediction|\n",
            "+------------+-----------+------------+-----------+----------+-----------+-----+-----------------+--------------+-------------+----------+\n",
            "|         4.3|        3.0|         1.1|        0.1|    Setosa|          0|  0.0|[4.3,3.0,1.1,0.1]|[43.0,0.0,0.0]|[1.0,0.0,0.0]|       0.0|\n",
            "|         4.4|        2.9|         1.4|        0.2|    Setosa|          0|  0.0|[4.4,2.9,1.4,0.2]|[43.0,0.0,0.0]|[1.0,0.0,0.0]|       0.0|\n",
            "|         4.4|        3.0|         1.3|        0.2|    Setosa|          0|  0.0|[4.4,3.0,1.3,0.2]|[43.0,0.0,0.0]|[1.0,0.0,0.0]|       0.0|\n",
            "|         4.4|        3.2|         1.3|        0.2|    Setosa|          0|  0.0|[4.4,3.2,1.3,0.2]|[43.0,0.0,0.0]|[1.0,0.0,0.0]|       0.0|\n",
            "|         4.5|        2.3|         1.3|        0.3|    Setosa|          0|  0.0|[4.5,2.3,1.3,0.3]|[43.0,0.0,0.0]|[1.0,0.0,0.0]|       0.0|\n",
            "|         4.6|        3.1|         1.5|        0.2|    Setosa|          0|  0.0|[4.6,3.1,1.5,0.2]|[43.0,0.0,0.0]|[1.0,0.0,0.0]|       0.0|\n",
            "|         4.6|        3.4|         1.4|        0.3|    Setosa|          0|  0.0|[4.6,3.4,1.4,0.3]|[43.0,0.0,0.0]|[1.0,0.0,0.0]|       0.0|\n",
            "|         4.6|        3.6|         1.0|        0.2|    Setosa|          0|  0.0|[4.6,3.6,1.0,0.2]|[43.0,0.0,0.0]|[1.0,0.0,0.0]|       0.0|\n",
            "|         4.7|        3.2|         1.3|        0.2|    Setosa|          0|  0.0|[4.7,3.2,1.3,0.2]|[43.0,0.0,0.0]|[1.0,0.0,0.0]|       0.0|\n",
            "|         4.7|        3.2|         1.6|        0.2|    Setosa|          0|  0.0|[4.7,3.2,1.6,0.2]|[43.0,0.0,0.0]|[1.0,0.0,0.0]|       0.0|\n",
            "|         4.8|        3.0|         1.4|        0.1|    Setosa|          0|  0.0|[4.8,3.0,1.4,0.1]|[43.0,0.0,0.0]|[1.0,0.0,0.0]|       0.0|\n",
            "|         4.8|        3.0|         1.4|        0.3|    Setosa|          0|  0.0|[4.8,3.0,1.4,0.3]|[43.0,0.0,0.0]|[1.0,0.0,0.0]|       0.0|\n",
            "|         4.8|        3.1|         1.6|        0.2|    Setosa|          0|  0.0|[4.8,3.1,1.6,0.2]|[43.0,0.0,0.0]|[1.0,0.0,0.0]|       0.0|\n",
            "|         4.8|        3.4|         1.6|        0.2|    Setosa|          0|  0.0|[4.8,3.4,1.6,0.2]|[43.0,0.0,0.0]|[1.0,0.0,0.0]|       0.0|\n",
            "|         4.8|        3.4|         1.9|        0.2|    Setosa|          0|  0.0|[4.8,3.4,1.9,0.2]|[43.0,0.0,0.0]|[1.0,0.0,0.0]|       0.0|\n",
            "|         4.9|        2.4|         3.3|        1.0|Versicolor|          1|  1.0|[4.9,2.4,3.3,1.0]|[0.0,40.0,0.0]|[0.0,1.0,0.0]|       1.0|\n",
            "|         4.9|        2.5|         4.5|        1.7| Virginica|          2|  2.0|[4.9,2.5,4.5,1.7]| [0.0,0.0,1.0]|[0.0,0.0,1.0]|       2.0|\n",
            "|         4.9|        3.0|         1.4|        0.2|    Setosa|          0|  0.0|[4.9,3.0,1.4,0.2]|[43.0,0.0,0.0]|[1.0,0.0,0.0]|       0.0|\n",
            "|         4.9|        3.1|         1.5|        0.1|    Setosa|          0|  0.0|[4.9,3.1,1.5,0.1]|[43.0,0.0,0.0]|[1.0,0.0,0.0]|       0.0|\n",
            "|         4.9|        3.1|         1.5|        0.2|    Setosa|          0|  0.0|[4.9,3.1,1.5,0.2]|[43.0,0.0,0.0]|[1.0,0.0,0.0]|       0.0|\n",
            "+------------+-----------+------------+-----------+----------+-----------+-----+-----------------+--------------+-------------+----------+\n",
            "only showing top 20 rows\n",
            "\n"
          ]
        }
      ]
    },
    {
      "cell_type": "code",
      "source": [
        "from pyspark.ml.evaluation import MulticlassClassificationEvaluator"
      ],
      "metadata": {
        "id": "metKqD21yBTq"
      },
      "execution_count": 114,
      "outputs": []
    },
    {
      "cell_type": "code",
      "source": [
        "evaluator = MulticlassClassificationEvaluator(labelCol='label', predictionCol='prediction', metricName='accuracy')\n"
      ],
      "metadata": {
        "id": "h5pApiBPyXok"
      },
      "execution_count": 116,
      "outputs": []
    },
    {
      "cell_type": "code",
      "source": [
        "evaluator.evaluate(train_classifier_res)"
      ],
      "metadata": {
        "colab": {
          "base_uri": "https://localhost:8080/"
        },
        "id": "iCBbQAILyvHe",
        "outputId": "c7f94099-3899-4682-ee26-3166bd179072"
      },
      "execution_count": 118,
      "outputs": [
        {
          "output_type": "execute_result",
          "data": {
            "text/plain": [
              "0.9922480620155039"
            ]
          },
          "metadata": {},
          "execution_count": 118
        }
      ]
    },
    {
      "cell_type": "code",
      "source": [
        "evaluator.evaluate(test_classifier_res)"
      ],
      "metadata": {
        "colab": {
          "base_uri": "https://localhost:8080/"
        },
        "id": "MHhfzuxiy706",
        "outputId": "cef256a5-eb6e-4d40-986b-59212c4d369b"
      },
      "execution_count": 119,
      "outputs": [
        {
          "output_type": "execute_result",
          "data": {
            "text/plain": [
              "1.0"
            ]
          },
          "metadata": {},
          "execution_count": 119
        }
      ]
    }
  ]
}